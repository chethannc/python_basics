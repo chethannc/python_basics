{
 "cells": [
  {
   "cell_type": "code",
   "execution_count": null,
   "metadata": {},
   "outputs": [],
   "source": [
    "list =(\"chethan kumar N C\")\n",
    "for i  in list:\n",
    "    if i == 't':\n",
    "        continue\n",
    "    print(i)"
   ]
  },
  {
   "cell_type": "code",
   "execution_count": 8,
   "metadata": {},
   "outputs": [
    {
     "name": "stdout",
     "output_type": "stream",
     "text": [
      "g\n",
      "e\n",
      "e\n",
      "k\n",
      "Current Letter : s\n"
     ]
    }
   ],
   "source": [
    "for letter in 'geeksforgeeks': \n",
    "\tif letter == 'r' or letter == 's': \n",
    "\t\tbreak\n",
    "\tprint(letter)\n",
    "\n",
    "print('Current Letter :', letter) \n"
   ]
  },
  {
   "cell_type": "code",
   "execution_count": 18,
   "metadata": {},
   "outputs": [
    {
     "name": "stdout",
     "output_type": "stream",
     "text": [
      "last letter:s\n"
     ]
    }
   ],
   "source": [
    "# An empty loop \n",
    "for letter in 'geeksforgeeks': \n",
    "\tpass\n",
    "print(f\"last letter:{letter}\")\n"
   ]
  },
  {
   "cell_type": "code",
   "execution_count": null,
   "metadata": {},
   "outputs": [],
   "source": [
    "#loops nested\n",
    "lst = [1,3]\n",
    "\n",
    "for i in lst:\n",
    "    print(\"next iteration\")\n",
    "    for j in range(1,10):\n",
    "        mul = i*j\n",
    "        print(f\"{i}*{j}={mul}\")"
   ]
  },
  {
   "cell_type": "code",
   "execution_count": 12,
   "metadata": {},
   "outputs": [
    {
     "name": "stdout",
     "output_type": "stream",
     "text": [
      "1\n",
      "2\n",
      "3\n"
     ]
    }
   ],
   "source": [
    "i = 3\n",
    "count = 0\n",
    "while  count < i :\n",
    "    count = count +1\n",
    "    print(count)"
   ]
  },
  {
   "cell_type": "code",
   "execution_count": 14,
   "metadata": {},
   "outputs": [
    {
     "name": "stdout",
     "output_type": "stream",
     "text": [
      "1\n",
      "2\n",
      "3\n"
     ]
    }
   ],
   "source": [
    "for i in range(1,4):\n",
    "    print(i)"
   ]
  },
  {
   "cell_type": "code",
   "execution_count": 30,
   "metadata": {},
   "outputs": [
    {
     "name": "stdout",
     "output_type": "stream",
     "text": [
      "1\n",
      "2\n",
      "3\n",
      "4\n",
      "5\n",
      "6\n",
      "7\n",
      "8\n",
      "9\n",
      "10\n"
     ]
    }
   ],
   "source": [
    "i=0\n",
    "def printnum(num):\n",
    "        if num > i :\n",
    "            printnum(num-1)\n",
    "            #print(i)\n",
    "            print(num)\n",
    "printnum(10)"
   ]
  },
  {
   "cell_type": "code",
   "execution_count": null,
   "metadata": {},
   "outputs": [],
   "source": [
    "a = int(input('Enter a number (-1 to quit): ')) \n",
    "\n",
    "while a != -1: \n",
    "\ta = int(input('Enter a number (-1 to quit): '))\n"
   ]
  },
  {
   "cell_type": "code",
   "execution_count": null,
   "metadata": {},
   "outputs": [],
   "source": [
    "count = 0 \n",
    "a = [ 1,2,3,4]\n",
    "while true:\n",
    "    count = count+1\n",
    "    print(count)\n",
    "\n",
    "    if count == 10:\n",
    "        break\n",
    "print(\"loop has ended\")"
   ]
  },
  {
   "cell_type": "code",
   "execution_count": 6,
   "metadata": {},
   "outputs": [
    {
     "name": "stdout",
     "output_type": "stream",
     "text": [
      "{1, 2}\n"
     ]
    }
   ],
   "source": [
    "def removeDuplicates(nums):\n",
    "    expectedNums = set(nums)\n",
    "    print(expectedNums)\n",
    "list=[1,2,2]\n",
    "removeDuplicates(list)\n",
    "\n"
   ]
  },
  {
   "cell_type": "code",
   "execution_count": 10,
   "metadata": {},
   "outputs": [
    {
     "name": "stdout",
     "output_type": "stream",
     "text": [
      "75 25\n",
      "25 75\n"
     ]
    }
   ],
   "source": [
    "#finds sum of two for a given target element\n",
    "def sum(list,target):\n",
    "    list.sort()\n",
    "    for i in list:\n",
    "        element1 = target-i\n",
    "        for j in range(len(list)):\n",
    "            if element1 == list[j]:\n",
    "                print(element1,i)\n",
    "list=[25,4,33,2,2,2,4,423,2,332,4,2342,245,515,53145,1345,13523645,6642,3,623453425,324,5,3425,75]\n",
    "sum(list,100)"
   ]
  }
 ],
 "metadata": {
  "kernelspec": {
   "display_name": "Python 3",
   "language": "python",
   "name": "python3"
  },
  "language_info": {
   "codemirror_mode": {
    "name": "ipython",
    "version": 3
   },
   "file_extension": ".py",
   "mimetype": "text/x-python",
   "name": "python",
   "nbconvert_exporter": "python",
   "pygments_lexer": "ipython3",
   "version": "3.10.13"
  }
 },
 "nbformat": 4,
 "nbformat_minor": 2
}
