{
 "cells": [
  {
   "cell_type": "markdown",
   "metadata": {},
   "source": [
    "# Basic List programs in python\n",
    "\n",
    "#  01/01/2024    Basic list Programs in python\n",
    "\n",
    "#  1.python program to interchange first and last elements\n",
    "#  in a list\n",
    "#  input:list = [14,0,4,20]\n",
    "#  output:reversed list is :[20, 0, 4, 14]\n",
    "\n"
   ]
  },
  {
   "cell_type": "code",
   "execution_count": 1,
   "metadata": {},
   "outputs": [
    {
     "name": "stdout",
     "output_type": "stream",
     "text": [
      "reversed list is :[20, 0, 4, 14]\n"
     ]
    }
   ],
   "source": [
    "list = [14,0,4,20]\n",
    "temp = list[0]\n",
    "list[0]=list[-1]\n",
    "list[-1]=temp\n",
    "print(f\"reversed list is :{list}\")"
   ]
  },
  {
   "cell_type": "markdown",
   "metadata": {},
   "source": [
    "# 2.Given a list in Python and provided the positions of the elements, write a program to swap the two elements in the list.\n",
    "# Input : List = [23, 65, 19, 90], pos1 = 1, pos2 = 3\n",
    "# Output : [19, 65, 23, 90]"
   ]
  },
  {
   "cell_type": "code",
   "execution_count": 66,
   "metadata": {},
   "outputs": [
    {
     "name": "stdout",
     "output_type": "stream",
     "text": [
      "[19, 65, 23, 90]\n"
     ]
    }
   ],
   "source": [
    "lst=[23, 65, 19, 90]\n",
    "pos1=1-1 \n",
    "pos2=3-1\n",
    "lst[pos1],lst[pos2]=lst[pos2],lst[pos1]\n",
    "print(lst)"
   ]
  },
  {
   "cell_type": "markdown",
   "metadata": {},
   "source": [
    "# 3< find length of a string\n",
    "# Input: lst = [10,20,30,40]\n",
    "# Output: 4\n",
    "# Explanation: The output is 4 because the length of the list is  4. "
   ]
  },
  {
   "cell_type": "markdown",
   "metadata": {},
   "source": [
    "<!-- # 3.find length of a list\n",
    "Input: lst = [10,20,30,40]\n",
    "Output: 4\n",
    "Explanation: The output is 4 because the length of the list is  4. -->"
   ]
  },
  {
   "cell_type": "code",
   "execution_count": 67,
   "metadata": {},
   "outputs": [
    {
     "name": "stdout",
     "output_type": "stream",
     "text": [
      "4\n",
      "4\n"
     ]
    }
   ],
   "source": [
    "lst = [10,20,30,40]\n",
    "count=0\n",
    "for i in lst:\n",
    "    count= count +1\n",
    "print(count)\n",
    "\n",
    "# method two\n",
    "\n",
    "lst = [10,20,30,40]\n",
    "length = len(lst)\n",
    "print(length)"
   ]
  },
  {
   "cell_type": "markdown",
   "metadata": {},
   "source": [
    "# 4 Given two numbers, write a Python code to find the Maximum of these two numbers.\n",
    "\n",
    "<!-- Examples: \n",
    "Input: a = 2, b = 4\n",
    "Output: 4\n",
    "Input: a = -1, b = -4\n",
    "Output: -1 -->"
   ]
  },
  {
   "cell_type": "code",
   "execution_count": 68,
   "metadata": {},
   "outputs": [
    {
     "name": "stdout",
     "output_type": "stream",
     "text": [
      "the maximun number is -1\n"
     ]
    }
   ],
   "source": [
    "def max(a,b):\n",
    "    if a == b:\n",
    "        print(\"both the given values are equal\")\n",
    "    elif a > b :\n",
    "        print(f\"the maximun number is {a}\")\n",
    "    else :\n",
    "        print(f\"the maximun number is {b}\")\n",
    "max(-1,-4)"
   ]
  },
  {
   "cell_type": "markdown",
   "metadata": {},
   "source": [
    "<!-- 5.Given two numbers, write a Python code to find the Minimum of these two numbers. Examples:\n",
    "\n",
    "Input: a = 2, b = 4\n",
    "Output: 2\n",
    "\n",
    "Input: a = -1, b = -4\n",
    "Output: -4 -->"
   ]
  },
  {
   "cell_type": "code",
   "execution_count": 69,
   "metadata": {},
   "outputs": [
    {
     "name": "stdout",
     "output_type": "stream",
     "text": [
      "2 is minimum\n",
      "2\n",
      "2\n"
     ]
    }
   ],
   "source": [
    "#using if else \n",
    "a= 2\n",
    "b=4\n",
    "if a<b:\n",
    "    print(f\"{a} is minimum\")\n",
    "else:\n",
    "    print(f\"{b} is minimun\")\n",
    "\n",
    "#using min() function\n",
    "\n",
    "minimum = min(a,b)\n",
    "print(minimum)\n",
    "\n",
    "#using sorted function\n",
    "print(sorted([2,4])[0])"
   ]
  },
  {
   "cell_type": "markdown",
   "metadata": {},
   "source": [
    "<!-- 6.The list is an important container in Python as it stores elements of all the data types as a collection. Knowledge of certain list operations is necessary for day-day programming. This article discusses the Fastest way to check if a value exists in a list or not using Python.\n",
    "\n",
    "Example\n",
    "\n",
    "Input: test_list = [1, 6, 3, 5, 3, 4]\n",
    "            3  # Check if 3 exist or not.\n",
    "Output: True\n",
    "Explanation: The output is True because the element we are looking is exist in the list. -->"
   ]
  },
  {
   "cell_type": "code",
   "execution_count": 70,
   "metadata": {},
   "outputs": [
    {
     "name": "stdout",
     "output_type": "stream",
     "text": [
      "False\n",
      "True\n",
      "False\n"
     ]
    }
   ],
   "source": [
    "test_list= [1,6,3,5,3,4]\n",
    "#using in keyword\n",
    "\n",
    "search_element = 48\n",
    "if search_element in test_list:\n",
    "    print(\"true\")\n",
    "else:\n",
    "   print(\"False\")\n",
    "\n",
    "\n",
    "#using loop\n",
    "\n",
    "def search_item(ele):\n",
    "    found = \"False\"\n",
    "    for i in test_list:\n",
    "        if ele == i:\n",
    "            found = \"True\"\n",
    "    print(found)\n",
    "        \n",
    "search_item(4)\n",
    "\n",
    "#using count variable\n",
    "\n",
    "count=test_list.count(48)\n",
    "if count>1:\n",
    "    print('True') \n",
    "else:\n",
    "    print(\"False\") \n"
   ]
  },
  {
   "cell_type": "markdown",
   "metadata": {},
   "source": [
    "# 7. clearing s python list\n",
    "Input: [2, 3, 5, 6, 7]\n",
    "Output: []\n",
    "Explanation: Python list is cleared and it becomes empty so we have returned empty list."
   ]
  },
  {
   "cell_type": "code",
   "execution_count": 71,
   "metadata": {},
   "outputs": [
    {
     "name": "stdout",
     "output_type": "stream",
     "text": [
      "lst list deleted successfully\n",
      "[]\n"
     ]
    }
   ],
   "source": [
    "#using del function\n",
    "lst = [2, 3, 5, 6, 7]\n",
    "del(lst[:])    #by passing the start and end position of the list the list can be made available with an empty list\n",
    "print (\"lst list deleted successfully\")\n",
    "\n",
    "print(lst)   # returns an error lst not defined because once the list is been deleted we cant print the list\n",
    "\n",
    "# #using clear()\n",
    "# lst.clear()   # just clears the elements from the list but the list will still be available with empty \n",
    "# print(lst)\n",
    "\n",
    "# #by simply re-initiating  new [] list \n",
    "# lst = []"
   ]
  },
  {
   "cell_type": "markdown",
   "metadata": {},
   "source": [
    "# 8 Python provides us with various ways of reversing a list. We will go through some of the many techniques on how a list in Python can be reversed.\n",
    "\n",
    "Example: \n",
    "\n",
    "Input: list = [4, 5, 6, 7, 8, 9]\n",
    "Output: [9, 8, 7, 6, 5, 4] "
   ]
  },
  {
   "cell_type": "code",
   "execution_count": 72,
   "metadata": {},
   "outputs": [
    {
     "name": "stdout",
     "output_type": "stream",
     "text": [
      "[9, 8, 7, 6, 5, 4]\n"
     ]
    },
    {
     "ename": "TypeError",
     "evalue": "'list' object is not callable",
     "output_type": "error",
     "traceback": [
      "\u001b[0;31m---------------------------------------------------------------------------\u001b[0m",
      "\u001b[0;31mTypeError\u001b[0m                                 Traceback (most recent call last)",
      "Cell \u001b[0;32mIn[72], line 8\u001b[0m\n\u001b[1;32m      5\u001b[0m rev\u001b[38;5;241m.\u001b[39mreverse()      \u001b[38;5;66;03m#reverrse function changes the actuall list \u001b[39;00m\n\u001b[1;32m      6\u001b[0m rev\n\u001b[0;32m----> 8\u001b[0m a\u001b[38;5;241m=\u001b[39m\u001b[38;5;28;43mlist\u001b[39;49m\u001b[43m(\u001b[49m\u001b[38;5;28;43mreversed\u001b[39;49m\u001b[43m(\u001b[49m\u001b[43mrev\u001b[49m\u001b[43m)\u001b[49m\u001b[43m)\u001b[49m \u001b[38;5;66;03m#reversed function takes the list as a argument and dosent affect the actuall lst\u001b[39;00m\n\u001b[1;32m      9\u001b[0m \u001b[38;5;28mprint\u001b[39m(a)\n",
      "\u001b[0;31mTypeError\u001b[0m: 'list' object is not callable"
     ]
    }
   ],
   "source": [
    "rev = [ 4,5,6,7,8,9]\n",
    "new = rev [::-1]\n",
    "print(new)\n",
    "\n",
    "rev.reverse()      #reverrse function changes the actuall list \n",
    "rev\n",
    "\n",
    "a=list(reversed(rev)) #reversed function takes the list as a argument and dosent affect the actuall lst\n",
    "print(a)\n",
    "\n"
   ]
  },
  {
   "cell_type": "markdown",
   "metadata": {},
   "source": [
    "# 9.copy lists in Python.\n",
    "list1 = [ 1,2,3,4,5]\n",
    "list1 copy  = list1[:]"
   ]
  },
  {
   "cell_type": "code",
   "execution_count": null,
   "metadata": {},
   "outputs": [
    {
     "name": "stdout",
     "output_type": "stream",
     "text": [
      "[1, 2, 3, 4, 5]\n",
      "[1, 2, 3, 4, 5]\n"
     ]
    }
   ],
   "source": [
    "list1 = [ 1,2,3,4,5]\n",
    "list2   = list1[:]\n",
    "print(list1)\n",
    "print(list2)"
   ]
  },
  {
   "cell_type": "code",
   "execution_count": null,
   "metadata": {},
   "outputs": [
    {
     "name": "stdout",
     "output_type": "stream",
     "text": [
      "the given number has occured 6 number of times\n"
     ]
    }
   ],
   "source": [
    "#count occurance of an element in a list\n",
    "\n",
    "list = [1,2,2,2,3,2,2,3,2,4,]\n",
    "def occurance(num):\n",
    "    count = 0\n",
    "    for i in list:\n",
    "        if num == i:\n",
    "            count = count +1\n",
    "    print (f\"the given number has occured {count} number of times\")\n",
    "occurance(2)"
   ]
  },
  {
   "cell_type": "code",
   "execution_count": null,
   "metadata": {},
   "outputs": [
    {
     "name": "stdout",
     "output_type": "stream",
     "text": [
      "the sum and average of the given string is 6 and 2 resectively]\n"
     ]
    }
   ],
   "source": [
    "#sum and average of list in python\n",
    "list = [2,3,1]\n",
    "sum =0 \n",
    "average =0\n",
    "for i  in list:\n",
    "    sum = sum + i\n",
    "    average = (sum/len(list))\n",
    "print(f\"the sum and average of the given string is {sum} and {int(average)} resectively\")\n"
   ]
  },
  {
   "cell_type": "markdown",
   "metadata": {},
   "source": [
    "# program to sum of number digits in list"
   ]
  },
  {
   "cell_type": "code",
   "execution_count": 52,
   "metadata": {},
   "outputs": [
    {
     "name": "stdout",
     "output_type": "stream",
     "text": [
      "23\n",
      "7\n",
      "3\n",
      "7\n",
      "9\n",
      "7\n"
     ]
    }
   ],
   "source": [
    "test_list = [23,43,12,34,54,34]\n",
    "for i in list:\n",
    "    first_digit=i//10\n",
    "    second_digit=i%10\n",
    "    print( first_digit+second_digit )\n",
    "\n",
    "\n",
    "\n",
    "#using  string method\n",
    "# res=[]\n",
    "# for i in list:\n",
    "#     sum=0\n",
    "#     for k in str(i):\n",
    "#         sum += int(k)\n",
    "#     print(sum)\n",
    "\n",
    "\n",
    "\n",
    "        \n",
    "        \n",
    "    "
   ]
  },
  {
   "cell_type": "markdown",
   "metadata": {},
   "source": [
    "# program to multiply all numbersin list\n"
   ]
  },
  {
   "cell_type": "code",
   "execution_count": null,
   "metadata": {},
   "outputs": [
    {
     "name": "stdout",
     "output_type": "stream",
     "text": [
      "24\n"
     ]
    }
   ],
   "source": [
    "list = [1,2,3,4]\n",
    "mul = 1\n",
    "for i in list:\n",
    "    mul = mul*i\n",
    "print(mul)\n",
    "    "
   ]
  },
  {
   "cell_type": "code",
   "execution_count": null,
   "metadata": {},
   "outputs": [
    {
     "name": "stdout",
     "output_type": "stream",
     "text": [
      "0.0001\n"
     ]
    }
   ],
   "source": [
    "# # python program to find smallest in a number list\n",
    "list = [ 1,2,3.,0.0003 ,0.3,0.0001]\n",
    "# small = min(list)\n",
    "# print(small)\n",
    "\n",
    "#sort method ( changes the actuall list)\n",
    "\n",
    "# list.sort()\n",
    "# print(list[0])\n",
    "# print(list)\n",
    "\n",
    "#sorted function\n",
    "\n",
    "min = sorted(list)\n",
    "print(min[0])"
   ]
  },
  {
   "cell_type": "code",
   "execution_count": null,
   "metadata": {},
   "outputs": [],
   "source": [
    "#program to find the largest in a list\n",
    "# lst = [ 234,546,231,45,57,22,1000]\n",
    "# lst.sort()\n",
    "# print(lst[len(lst)-1])\n",
    "\n",
    "\n",
    "#accessing elements from user\n",
    "empty=[]\n",
    "num = int(input(\"enter number elements in a list\"))\n",
    "for i in range(1,num+1):\n",
    "    ele = input(\"enter elements\")\n",
    "    empty.append(ele)\n",
    "print(empty)"
   ]
  },
  {
   "cell_type": "code",
   "execution_count": null,
   "metadata": {},
   "outputs": [
    {
     "name": "stdout",
     "output_type": "stream",
     "text": [
      "22\n"
     ]
    }
   ],
   "source": [
    "#find second largest number in a list\n",
    "list = [1,2,3,22,23,4,5,6,7]\n",
    "list.sort()\n",
    "print(list[-2])\n"
   ]
  },
  {
   "cell_type": "code",
   "execution_count": null,
   "metadata": {},
   "outputs": [
    {
     "name": "stdout",
     "output_type": "stream",
     "text": [
      "2  4  6  22  "
     ]
    }
   ],
   "source": [
    "#program to print even numbers in a list\n",
    "prime_numbers =[]\n",
    "for i in list:\n",
    "    if i % 2 == 0:\n",
    "       # prime_numbers.append([i])\n",
    "         print(i, end=\"  \")\n",
    "#print(prime_numbers)\n",
    "    "
   ]
  },
  {
   "cell_type": "code",
   "execution_count": null,
   "metadata": {},
   "outputs": [
    {
     "name": "stdout",
     "output_type": "stream",
     "text": [
      "odd numbers {1, 3, 5, 7, 23}  prime numbers[2, 4, 6, 22]\n"
     ]
    }
   ],
   "source": [
    "#print odd numbers using prime numbers program\n",
    "prime_numbers =[]\n",
    "for i in list:\n",
    "    if i % 2 == 0:\n",
    "        prime_numbers.append(i)\n",
    "set_list = set(list)\n",
    "set_prime = set(prime_numbers)\n",
    "odd = set_list-set_prime\n",
    "print(f\"odd numbers {odd}  prime numbers{prime_numbers}\")\n",
    "\n"
   ]
  },
  {
   "cell_type": "code",
   "execution_count": null,
   "metadata": {},
   "outputs": [
    {
     "name": "stdout",
     "output_type": "stream",
     "text": [
      "1 3 5 7 9 "
     ]
    }
   ],
   "source": [
    "#print all even numbers in a range\n",
    "def even_range(start,stop):\n",
    "    for i in range(start,stop):\n",
    "        if i % 2 == 0:\n",
    "            print(i,end=\" \")\n",
    "#even_range(1,100)\n",
    "\n",
    "#print all odd numbers in a given range\n",
    "def odd_range(start,stop):\n",
    "    for i in range(start,stop):\n",
    "        if i % 2 == 0:\n",
    "            pass\n",
    "        else:\n",
    "            print(i,end=\" \")\n",
    "odd_range(1,10)\n",
    "\n",
    "\n"
   ]
  },
  {
   "cell_type": "code",
   "execution_count": null,
   "metadata": {},
   "outputs": [
    {
     "name": "stdout",
     "output_type": "stream",
     "text": [
      "5\n"
     ]
    }
   ],
   "source": [
    "#program to count even or odd numbers in a list\n",
    "count = 0\n",
    "list = [ 1,3,5,7,9]\n",
    "for i in list:\n",
    "    if i % 2 == 0:\n",
    "        count = count + 1\n",
    "print(count)"
   ]
  },
  {
   "cell_type": "code",
   "execution_count": null,
   "metadata": {},
   "outputs": [
    {
     "name": "stdout",
     "output_type": "stream",
     "text": [
      "positive number 12\n",
      "negative number -7\n",
      "positive number 5\n",
      "positive number 64\n",
      "negative number -14\n"
     ]
    }
   ],
   "source": [
    "#python programs to print positive numbers in a list\n",
    "list = [12, -7, 5, 64, -14]\n",
    "for i in list :\n",
    "    if i > 0 :\n",
    "        print(f\"positive number {i}\")\n",
    "    else :\n",
    "        print(f\"negative number {i}\")"
   ]
  },
  {
   "cell_type": "code",
   "execution_count": null,
   "metadata": {},
   "outputs": [
    {
     "name": "stdout",
     "output_type": "stream",
     "text": [
      "1 2 3 4 5 6 7 8 9 10 11 12 13 14 15 16 17 18 19 20 "
     ]
    }
   ],
   "source": [
    "#program to print all positive numbers in a range\n",
    "def pos_neg_range(start,stop):\n",
    "    for i in range(start,stop+1):\n",
    "        if i>0:\n",
    "            print(i,end=\" \")\n",
    "pos_neg_range(-10,20)"
   ]
  },
  {
   "cell_type": "code",
   "execution_count": 12,
   "metadata": {},
   "outputs": [
    {
     "name": "stdout",
     "output_type": "stream",
     "text": [
      "apple is green\n",
      "banana is jkanckjcn\n",
      "akjs is akskj\n",
      "assknk is asjdbj\n"
     ]
    }
   ],
   "source": [
    "fruits = [\"apple\", \"banana\",\"akjs\",\"assknk\",\"cehtahn\"] \n",
    "colors = [ \"green\",\"jkanckjcn\",\"akskj\",'asjdbj'] \n",
    "for fruit, color in zip(fruits,colors):\n",
    "\tprint(fruit, \"is\", color) \n"
   ]
  },
  {
   "cell_type": "code",
   "execution_count": 27,
   "metadata": {},
   "outputs": [
    {
     "name": "stdout",
     "output_type": "stream",
     "text": [
      "1 2 3\n",
      "3 4 2\n",
      "5 3 6\n"
     ]
    }
   ],
   "source": [
    "t = ((1, 3,2), (3,2, 4), (5, 6,3)) \n",
    "for a, b,d in t: \n",
    "\tprint(a,d,b) \n"
   ]
  },
  {
   "cell_type": "code",
   "execution_count": null,
   "metadata": {},
   "outputs": [
    {
     "name": "stdout",
     "output_type": "stream",
     "text": [
      "positive count 2 Negative count 3\n"
     ]
    }
   ],
   "source": [
    "#program to count all positive numbers and negative numbers in a list\n",
    "list =[2, -7, 5, -64, -14]\n",
    "Pos_count=0\n",
    "Neg_count=0\n",
    "for i in list:\n",
    "    if i>0:\n",
    "        Pos_count = Pos_count + 1\n",
    "    elif i<0:\n",
    "        Neg_count = Neg_count + 1\n",
    "print(f\"positive count {Pos_count} Negative count {Neg_count}\")"
   ]
  },
  {
   "cell_type": "code",
   "execution_count": 16,
   "metadata": {},
   "outputs": [
    {
     "data": {
      "text/plain": [
       "[15]"
      ]
     },
     "execution_count": 16,
     "metadata": {},
     "output_type": "execute_result"
    }
   ],
   "source": [
    "#remove multiple elements from a list\n",
    "lst = [12, 15, 3, 10]\n",
    "\n",
    "def remov(l, start, stop):\n",
    "    k=del(l[1:1])\n",
    "    return \n",
    "\n",
    "\n",
    "remov(lst, 1, 2)\n",
    "ls'\n"
   ]
  },
  {
   "cell_type": "code",
   "execution_count": 7,
   "metadata": {},
   "outputs": [
    {
     "data": {
      "text/plain": [
       "[3, 4]"
      ]
     },
     "execution_count": 7,
     "metadata": {},
     "output_type": "execute_result"
    }
   ],
   "source": [
    "a=[1,2,3,4]\n",
    "del(a[0:2])\n",
    "a"
   ]
  },
  {
   "cell_type": "code",
   "execution_count": null,
   "metadata": {},
   "outputs": [
    {
     "name": "stdout",
     "output_type": "stream",
     "text": [
      "[20, 30, -20, 60]\n",
      "[20, 30, 60, -20]\n"
     ]
    }
   ],
   "source": [
    "# #program to print duplicates from list\n",
    "list = [10, 20, 30, 20, 20, 30, 40, 50, -20, 60, 60, -20, -20]\n",
    "length = len(list)\n",
    "duplicat=[]\n",
    "for i in range(length):\n",
    "    next = i + 1\n",
    "    for j in range(next,length):\n",
    "        if list[i]==list[j] and list[j] not in duplicat:\n",
    "            duplicat.append(list[i])\n",
    "\n",
    "print(duplicat)\n",
    "        \n",
    "#using double comparision\n",
    "\n",
    "unique=[]\n",
    "multiple=[]\n",
    "for i in list:\n",
    "   if i not in unique:\n",
    "     unique.append(i)\n",
    "   elif i not in multiple:\n",
    "     multiple.append(i)\n",
    "print(multiple)\n",
    "\n",
    "        \n",
    "       \n"
   ]
  },
  {
   "cell_type": "code",
   "execution_count": null,
   "metadata": {},
   "outputs": [
    {
     "name": "stdout",
     "output_type": "stream",
     "text": [
      "[5, 6, 3, 9]\n"
     ]
    }
   ],
   "source": [
    "#program to remove empty list from list\n",
    "\n",
    "\n",
    "lst = [5,[],6, [],[],[],[], 3, [], 9,[] ,[]]\n",
    "# for empty in lst:\n",
    "#     if empty == []:                                                     #modifying a list while iterating leads to unexpected errors bcs the list changes its size and results may be not as expected \n",
    "#         lst.remove(empty)\n",
    "#         print(lst)\n",
    "\n",
    "#using while loop\n",
    "\n",
    "# while [] in lst:\n",
    "#     lst.remove([])              #results will be accurate but still the lst will be modified in iteration\n",
    "#     print(lst)\n",
    "\n",
    "# using list comprehension\n",
    "\n",
    "result =[ele for ele in lst if ele != []]\n",
    "print(result)\n",
    "\n",
    "    \n"
   ]
  },
  {
   "cell_type": "code",
   "execution_count": null,
   "metadata": {},
   "outputs": [
    {
     "name": "stdout",
     "output_type": "stream",
     "text": [
      "[{'name': 'Gfg', 'id': 3}, {'name': 'is', 'id': 8}]\n"
     ]
    }
   ],
   "source": [
    "# converting list to a list of dictonires\n",
    "# nput : test_list = [“Gfg”, 3, “is”, 8], key_list = [“name”, “id”] \n",
    "# Output : [{‘name’: ‘Gfg’, ‘id’: 3}, {‘name’: ‘is’, ‘id’: 8}] \n",
    "\n",
    "test_list = ['Gfg', 3, 'is', 8] \n",
    "key_list = ['name', \"id\"] \n",
    "res=[]\n",
    "length = len(test_list)\n",
    "for i in range(0,length,2):\n",
    "    res.append({key_list[0]:test_list[i],key_list[1]:test_list[i+1]})\n",
    "print(res)\n"
   ]
  }
 ],
 "metadata": {
  "kernelspec": {
   "display_name": "Python 3",
   "language": "python",
   "name": "python3"
  },
  "language_info": {
   "codemirror_mode": {
    "name": "ipython",
    "version": 3
   },
   "file_extension": ".py",
   "mimetype": "text/x-python",
   "name": "python",
   "nbconvert_exporter": "python",
   "pygments_lexer": "ipython3",
   "version": "3.10.13"
  }
 },
 "nbformat": 4,
 "nbformat_minor": 2
}
