{
 "cells": [
  {
   "cell_type": "code",
   "execution_count": 32,
   "metadata": {},
   "outputs": [
    {
     "ename": "AttributeError",
     "evalue": "'mobile' object has no attribute 'battery'",
     "output_type": "error",
     "traceback": [
      "\u001b[0;31m---------------------------------------------------------------------------\u001b[0m",
      "\u001b[0;31mAttributeError\u001b[0m                            Traceback (most recent call last)",
      "Cell \u001b[0;32mIn[32], line 14\u001b[0m\n\u001b[1;32m     10\u001b[0m        \u001b[38;5;28mprint\u001b[39m(\u001b[38;5;28mself\u001b[39m\u001b[38;5;241m.\u001b[39mcamera)\n\u001b[1;32m     13\u001b[0m samsung\u001b[38;5;241m=\u001b[39m mobile()\n\u001b[0;32m---> 14\u001b[0m \u001b[43msamsung\u001b[49m\u001b[38;5;241;43m.\u001b[39;49m\u001b[43mspecifications\u001b[49m\u001b[43m(\u001b[49m\u001b[43m)\u001b[49m\n",
      "Cell \u001b[0;32mIn[32], line 8\u001b[0m, in \u001b[0;36mmobile.specifications\u001b[0;34m(self)\u001b[0m\n\u001b[1;32m      7\u001b[0m \u001b[38;5;28;01mdef\u001b[39;00m \u001b[38;5;21mspecifications\u001b[39m(\u001b[38;5;28mself\u001b[39m):\n\u001b[0;32m----> 8\u001b[0m    \u001b[38;5;28mprint\u001b[39m(\u001b[38;5;28;43mself\u001b[39;49m\u001b[38;5;241;43m.\u001b[39;49m\u001b[43mbattery\u001b[49m)\n\u001b[1;32m      9\u001b[0m    \u001b[38;5;28mprint\u001b[39m(\u001b[38;5;28mself\u001b[39m\u001b[38;5;241m.\u001b[39mos)\n\u001b[1;32m     10\u001b[0m    \u001b[38;5;28mprint\u001b[39m(\u001b[38;5;28mself\u001b[39m\u001b[38;5;241m.\u001b[39mcamera)\n",
      "\u001b[0;31mAttributeError\u001b[0m: 'mobile' object has no attribute 'battery'"
     ]
    }
   ],
   "source": [
    "class mobile:\n",
    "    def attribute(self):\n",
    "        self.battery : \"6000\"\n",
    "        self.camera : \"32\"\n",
    "        self.os = \" samsung os\"\n",
    "\n",
    "    def specifications(self):\n",
    "       print(self.battery)\n",
    "       print(self.os)\n",
    "       print(self.camera)\n",
    "    \n",
    "    \n",
    "samsung= mobile()\n",
    "samsung.specifications()"
   ]
  },
  {
   "cell_type": "code",
   "execution_count": 18,
   "metadata": {},
   "outputs": [
    {
     "name": "stdout",
     "output_type": "stream",
     "text": [
      "mammal\n",
      "I'm a mammal\n",
      "I'm a dog\n"
     ]
    }
   ],
   "source": [
    "# Python3 program to\n",
    "# demonstrate instantiating\n",
    "# a class\n",
    "class Dog:\n",
    "\n",
    "\t# A simple class\n",
    "\t# attribute\n",
    "\tattr1 = \"mammal\"\n",
    "\tattr2 = \"dog\"\n",
    "\n",
    "\t# A sample method\n",
    "\tdef fun(self):\n",
    "\t\tprint(\"I'm a\", self.attr1)\n",
    "\t\tprint(\"I'm a\", self.attr2)\n",
    "\n",
    "\n",
    "# Driver code\n",
    "# Object instantiation\n",
    "Rodger = Dog()\n",
    "\n",
    "# Accessing class attributes\n",
    "# and method through objects\n",
    "print(Rodger.attr1)\n",
    "Rodger.fun()\n"
   ]
  },
  {
   "cell_type": "code",
   "execution_count": 41,
   "metadata": {},
   "outputs": [
    {
     "ename": "TypeError",
     "evalue": "mobile.specifications() takes 1 positional argument but 4 were given",
     "output_type": "error",
     "traceback": [
      "\u001b[0;31m---------------------------------------------------------------------------\u001b[0m",
      "\u001b[0;31mTypeError\u001b[0m                                 Traceback (most recent call last)",
      "Cell \u001b[0;32mIn[41], line 21\u001b[0m\n\u001b[1;32m     18\u001b[0m oppo \u001b[38;5;241m=\u001b[39m mobile()\n\u001b[1;32m     20\u001b[0m \u001b[38;5;66;03m# Call the specifications method on the instance\u001b[39;00m\n\u001b[0;32m---> 21\u001b[0m \u001b[43msamsung\u001b[49m\u001b[38;5;241;43m.\u001b[39;49m\u001b[43mspecifications\u001b[49m\u001b[43m(\u001b[49m\u001b[38;5;241;43m500\u001b[39;49m\u001b[43m,\u001b[49m\u001b[38;5;241;43m32\u001b[39;49m\u001b[43m,\u001b[49m\u001b[38;5;241;43m8000\u001b[39;49m\u001b[43m)\u001b[49m\n\u001b[1;32m     22\u001b[0m oppo\u001b[38;5;241m.\u001b[39mspecifications\n",
      "\u001b[0;31mTypeError\u001b[0m: mobile.specifications() takes 1 positional argument but 4 were given"
     ]
    }
   ],
   "source": [
    "class mobile:\n",
    "    samsung = mobile\n",
    "    oppo=mobile\n",
    "    redmi=mobile\n",
    "    phone=mobile\n",
    "    \n",
    "    def specifications(self,battery,camera,price):\n",
    "        self.battery=battery\n",
    "        self.camera=camera\n",
    "        self.price=price\n",
    "\n",
    "        \n",
    "# Create an instance of the mobile class\n",
    "samsungf14 = mobile()\n",
    "oppo = mobile()\n",
    "\n",
    "# Call the specifications method on the instance\n",
    "samsung.specifications(500,32,8000)\n",
    "oppo.specifications\n"
   ]
  },
  {
   "cell_type": "markdown",
   "metadata": {},
   "source": [
    "# class is a blue print that stores data members and memmember functions \n",
    "# an object created for each class is will have access to same behaviour of the class and have the same properties like class\n",
    "# the class behaviour mainly consists of all the properties that a class must have that are required for  a object that to be executed \n"
   ]
  }
 ],
 "metadata": {
  "kernelspec": {
   "display_name": "Python 3",
   "language": "python",
   "name": "python3"
  },
  "language_info": {
   "codemirror_mode": {
    "name": "ipython",
    "version": 3
   },
   "file_extension": ".py",
   "mimetype": "text/x-python",
   "name": "python",
   "nbconvert_exporter": "python",
   "pygments_lexer": "ipython3",
   "version": "3.10.13"
  }
 },
 "nbformat": 4,
 "nbformat_minor": 2
}
