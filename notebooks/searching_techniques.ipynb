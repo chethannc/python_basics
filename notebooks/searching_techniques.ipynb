{
 "cells": [
  {
   "cell_type": "markdown",
   "metadata": {},
   "source": [
    "# searching is a technique of looking for an item is a dataset using different algorithms based on the requirements \n",
    "# 1 linear search : this a way of searching for an item by comparing it with every other elemet.\n",
    " # steps :\n",
    "            define a funcation named lilnear which accepts two arguments(list,search_elemet,)\n",
    "            find the length of the list and store it in a variable named length \n",
    "            by iterating the list using an element traverse the array by checking for  a match with the search element \n",
    "            if search elemet is matched with the elemet return item found "
   ]
  },
  {
   "cell_type": "code",
   "execution_count": 3,
   "metadata": {},
   "outputs": [
    {
     "name": "stdout",
     "output_type": "stream",
     "text": [
      "True at 5\n",
      "True at 6\n"
     ]
    }
   ],
   "source": [
    "#Linear search\n",
    "\n",
    "def linear(list,search_ele):\n",
    "    res=False\n",
    "    length = len(list)\n",
    "    for i in range(length):\n",
    "        if list[i] == search_ele:\n",
    "            res=True\n",
    "            print(f\"{res} at {i}\")\n",
    "\n",
    "    \n",
    "lst = [1,2,3,4,5,6,6]\n",
    "linear(lst,6)"
   ]
  },
  {
   "cell_type": "code",
   "execution_count": 14,
   "metadata": {},
   "outputs": [
    {
     "name": "stdout",
     "output_type": "stream",
     "text": [
      "[2, 3, 4, 5]\n",
      "False\n",
      "value 2 0\n"
     ]
    },
    {
     "data": {
      "text/plain": [
       "True"
      ]
     },
     "execution_count": 14,
     "metadata": {},
     "output_type": "execute_result"
    }
   ],
   "source": [
    "# binary search\n",
    "def binar_search(value,search_ele):\n",
    "    value.sort()\n",
    "    print(value)\n",
    "    res=False\n",
    "    length = len(value)\n",
    "    start = 0\n",
    "    last = (length -1)\n",
    "    mid = int((start + last)/2)#1\n",
    "    for i in range(length):\n",
    "        # print(mid)\n",
    "        if start<last and res == False:\n",
    "            # print(mid)\n",
    "            if value[mid]==search_ele:\n",
    "                print(\"value\", value[mid], mid)\n",
    "                return True\n",
    "            elif search_ele>value[mid]:\n",
    "                mid = mid+1\n",
    "            elif search_ele<value[mid]:\n",
    "                mid = mid -1\n",
    "        print(res)\n",
    "lst=[2,3,4,5]\n",
    "binar_search(lst,2)"
   ]
  },
  {
   "cell_type": "markdown",
   "metadata": {},
   "source": [
    "# sorting techniques\n",
    "# 1.bubble sort\n",
    "# 2.selection sort\n",
    "# 3.insertion sort"
   ]
  },
  {
   "cell_type": "code",
   "execution_count": 20,
   "metadata": {},
   "outputs": [
    {
     "name": "stdout",
     "output_type": "stream",
     "text": [
      "[687, 2, 5, 10, 44, 9]\n",
      "[2, 687, 5, 10, 44, 9]\n",
      "[2, 5, 687, 10, 44, 9]\n",
      "[2, 5, 10, 687, 44, 9]\n",
      "[2, 5, 10, 44, 687, 9]\n",
      "[2, 5, 9, 44, 687, 10]\n",
      "[2, 5, 9, 10, 687, 44]\n",
      "[2, 5, 9, 10, 44, 687]\n",
      "division by zero error\n",
      "1.0\n",
      "0.5\n"
     ]
    }
   ],
   "source": [
    "#Bubble sort\n",
    "lst = [10,2,5,687,44,9]\n",
    "\n",
    "def bubblesort(list):\n",
    "    length = len(list)\n",
    "    for i in range(length):\n",
    "        for j in range(length):\n",
    "            # print(list[j],list[j+1])\n",
    "            if list[i]<list[j]:\n",
    "                list[i], list[j] = list[j], list[i]\n",
    "                print(list)\n",
    "\n",
    "# # print(lst)\n",
    "# bubblesort(lst)\n",
    "\n",
    "# for i in range(3):\n",
    "#     try:\n",
    "#         print(1/i)\n",
    "#     except:\n",
    "#         print(\"division by error\")"
   ]
  },
  {
   "cell_type": "code",
   "execution_count": 57,
   "metadata": {},
   "outputs": [
    {
     "name": "stdout",
     "output_type": "stream",
     "text": [
      "[64, 25, 12, 22]\n"
     ]
    }
   ],
   "source": [
    "#selection sort\n",
    "list = [64, 25, 12, 22, 11]\n",
    "length=len(list)\n",
    "min = i\n",
    "for i in range(length):\n",
    "   for j in range(i+1,length)\n",
    "   if min > list[J]:\n",
    "      list[min]=   \n",
    "print(list1)   \n",
    "        \n",
    "    \n",
    "\n",
    "            \n",
    "\n"
   ]
  },
  {
   "cell_type": "code",
   "execution_count": 1,
   "metadata": {},
   "outputs": [
    {
     "name": "stdout",
     "output_type": "stream",
     "text": [
      "[1, 3]\n"
     ]
    }
   ],
   "source": [
    "list=[1,2,3,4]\n",
    "for i in list:\n",
    "    if i%2 == 0:\n",
    "        list.remove(i)\n",
    "print(list)"
   ]
  },
  {
   "cell_type": "code",
   "execution_count": 5,
   "metadata": {},
   "outputs": [
    {
     "name": "stdout",
     "output_type": "stream",
     "text": [
      "[1, 2, 2, 2, 2, 3, 12, 22, 23, 23, 65, 877, 987, 9877]\n"
     ]
    }
   ],
   "source": [
    "list=[1,2,22,23,3,2,23,2,2]\n",
    "list1 = [ 9877,877,65,987,12]\n",
    "list.sort()\n",
    "list1.sort()\n",
    "list3= list1+list\n",
    "list3.sort()\n",
    "print(list3)\n"
   ]
  },
  {
   "cell_type": "code",
   "execution_count": 12,
   "metadata": {},
   "outputs": [
    {
     "name": "stdout",
     "output_type": "stream",
     "text": [
      "deque(['a', 'c'])\n",
      "deque(['a'])\n"
     ]
    }
   ],
   "source": [
    "from collections import deque\n",
    "q=deque()\n",
    "q = "
   ]
  },
  {
   "cell_type": "code",
   "execution_count": null,
   "metadata": {},
   "outputs": [],
   "source": []
  }
 ],
 "metadata": {
  "kernelspec": {
   "display_name": "Python 3",
   "language": "python",
   "name": "python3"
  },
  "language_info": {
   "codemirror_mode": {
    "name": "ipython",
    "version": 3
   },
   "file_extension": ".py",
   "mimetype": "text/x-python",
   "name": "python",
   "nbconvert_exporter": "python",
   "pygments_lexer": "ipython3",
   "version": "3.10.13"
  }
 },
 "nbformat": 4,
 "nbformat_minor": 2
}
